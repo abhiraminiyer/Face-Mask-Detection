{
 "cells": [
  {
   "cell_type": "code",
   "execution_count": 1,
   "id": "c76f07ea",
   "metadata": {},
   "outputs": [],
   "source": [
    "import numpy as np\n",
    "data=np.load(\"data.npy\")\n",
    "target=np.load(\"target.npy\")"
   ]
  },
  {
   "cell_type": "code",
   "execution_count": 3,
   "id": "d8442c8e",
   "metadata": {},
   "outputs": [],
   "source": [
    "from keras.models import Sequential\n",
    "from keras.layers import Dense,Activation,Flatten,Dropout\n",
    "from keras.layers import Conv2D,MaxPooling2D\n",
    "from keras.callbacks import ModelCheckpoint"
   ]
  },
  {
   "cell_type": "code",
   "execution_count": 4,
   "id": "0fa54cac",
   "metadata": {},
   "outputs": [],
   "source": [
    "model=Sequential()"
   ]
  },
  {
   "cell_type": "code",
   "execution_count": 5,
   "id": "08cff257",
   "metadata": {},
   "outputs": [],
   "source": [
    "model.add(Conv2D(200,(3,3),input_shape=data.shape[1:]))\n",
    "model.add(Activation(\"relu\"))\n",
    "model.add(MaxPooling2D(pool_size=(2,2)))"
   ]
  },
  {
   "cell_type": "code",
   "execution_count": 6,
   "id": "9321f455",
   "metadata": {},
   "outputs": [],
   "source": [
    "model.add(Conv2D(100,(3,3)))\n",
    "model.add(Activation(\"relu\"))\n",
    "model.add(MaxPooling2D(pool_size=(2,2)))"
   ]
  },
  {
   "cell_type": "code",
   "execution_count": 9,
   "id": "c00bc880",
   "metadata": {},
   "outputs": [],
   "source": [
    "model.add(Flatten())\n",
    "model.add(Dropout(0.5))\n",
    "model.add(Dense(50,activation=\"relu\"))\n",
    "model.add(Dense(2,activation=\"softmax\"))"
   ]
  },
  {
   "cell_type": "code",
   "execution_count": 11,
   "id": "555d6650",
   "metadata": {},
   "outputs": [],
   "source": [
    "model.compile(loss=\"categorical_crossentropy\",optimizer=\"adam\",metrics=[\"accuracy\"])"
   ]
  },
  {
   "cell_type": "code",
   "execution_count": 12,
   "id": "5a0ca864",
   "metadata": {},
   "outputs": [],
   "source": [
    "from sklearn.model_selection import train_test_split\n",
    "train_data,test_data,train_target,test_target=train_test_split(data,target,test_size=0.1)"
   ]
  },
  {
   "cell_type": "code",
   "execution_count": 14,
   "id": "de64c823",
   "metadata": {},
   "outputs": [
    {
     "name": "stdout",
     "output_type": "stream",
     "text": [
      "Epoch 1/20\n",
      "31/31 [==============================] - ETA: 0s - loss: 0.6890 - accuracy: 0.5455"
     ]
    },
    {
     "name": "stderr",
     "output_type": "stream",
     "text": [
      "WARNING:absl:Found untraced functions such as _jit_compiled_convolution_op, _jit_compiled_convolution_op, _update_step_xla while saving (showing 3 of 3). These functions will not be directly callable after loading.\n"
     ]
    },
    {
     "name": "stdout",
     "output_type": "stream",
     "text": [
      "INFO:tensorflow:Assets written to: model-001.model\\assets\n"
     ]
    },
    {
     "name": "stderr",
     "output_type": "stream",
     "text": [
      "INFO:tensorflow:Assets written to: model-001.model\\assets\n"
     ]
    },
    {
     "name": "stdout",
     "output_type": "stream",
     "text": [
      "31/31 [==============================] - 45s 1s/step - loss: 0.6890 - accuracy: 0.5455 - val_loss: 0.6071 - val_accuracy: 0.6573\n",
      "Epoch 2/20\n",
      "31/31 [==============================] - ETA: 0s - loss: 0.5223 - accuracy: 0.7495"
     ]
    },
    {
     "name": "stderr",
     "output_type": "stream",
     "text": [
      "WARNING:absl:Found untraced functions such as _jit_compiled_convolution_op, _jit_compiled_convolution_op, _update_step_xla while saving (showing 3 of 3). These functions will not be directly callable after loading.\n"
     ]
    },
    {
     "name": "stdout",
     "output_type": "stream",
     "text": [
      "INFO:tensorflow:Assets written to: model-002.model\\assets\n"
     ]
    },
    {
     "name": "stderr",
     "output_type": "stream",
     "text": [
      "INFO:tensorflow:Assets written to: model-002.model\\assets\n"
     ]
    },
    {
     "name": "stdout",
     "output_type": "stream",
     "text": [
      "31/31 [==============================] - 43s 1s/step - loss: 0.5223 - accuracy: 0.7495 - val_loss: 0.4853 - val_accuracy: 0.7621\n",
      "Epoch 3/20\n",
      "31/31 [==============================] - ETA: 0s - loss: 0.3378 - accuracy: 0.8495"
     ]
    },
    {
     "name": "stderr",
     "output_type": "stream",
     "text": [
      "WARNING:absl:Found untraced functions such as _jit_compiled_convolution_op, _jit_compiled_convolution_op, _update_step_xla while saving (showing 3 of 3). These functions will not be directly callable after loading.\n"
     ]
    },
    {
     "name": "stdout",
     "output_type": "stream",
     "text": [
      "INFO:tensorflow:Assets written to: model-003.model\\assets\n"
     ]
    },
    {
     "name": "stderr",
     "output_type": "stream",
     "text": [
      "INFO:tensorflow:Assets written to: model-003.model\\assets\n"
     ]
    },
    {
     "name": "stdout",
     "output_type": "stream",
     "text": [
      "31/31 [==============================] - 45s 1s/step - loss: 0.3378 - accuracy: 0.8495 - val_loss: 0.3567 - val_accuracy: 0.8508\n",
      "Epoch 4/20\n",
      "31/31 [==============================] - ETA: 0s - loss: 0.2590 - accuracy: 0.9081"
     ]
    },
    {
     "name": "stderr",
     "output_type": "stream",
     "text": [
      "WARNING:absl:Found untraced functions such as _jit_compiled_convolution_op, _jit_compiled_convolution_op, _update_step_xla while saving (showing 3 of 3). These functions will not be directly callable after loading.\n"
     ]
    },
    {
     "name": "stdout",
     "output_type": "stream",
     "text": [
      "INFO:tensorflow:Assets written to: model-004.model\\assets\n"
     ]
    },
    {
     "name": "stderr",
     "output_type": "stream",
     "text": [
      "INFO:tensorflow:Assets written to: model-004.model\\assets\n"
     ]
    },
    {
     "name": "stdout",
     "output_type": "stream",
     "text": [
      "31/31 [==============================] - 49s 2s/step - loss: 0.2590 - accuracy: 0.9081 - val_loss: 0.2410 - val_accuracy: 0.8952\n",
      "Epoch 5/20\n",
      "31/31 [==============================] - ETA: 0s - loss: 0.2532 - accuracy: 0.8949"
     ]
    },
    {
     "name": "stderr",
     "output_type": "stream",
     "text": [
      "WARNING:absl:Found untraced functions such as _jit_compiled_convolution_op, _jit_compiled_convolution_op, _update_step_xla while saving (showing 3 of 3). These functions will not be directly callable after loading.\n"
     ]
    },
    {
     "name": "stdout",
     "output_type": "stream",
     "text": [
      "INFO:tensorflow:Assets written to: model-005.model\\assets\n"
     ]
    },
    {
     "name": "stderr",
     "output_type": "stream",
     "text": [
      "INFO:tensorflow:Assets written to: model-005.model\\assets\n"
     ]
    },
    {
     "name": "stdout",
     "output_type": "stream",
     "text": [
      "31/31 [==============================] - 46s 2s/step - loss: 0.2532 - accuracy: 0.8949 - val_loss: 0.1923 - val_accuracy: 0.9315\n",
      "Epoch 6/20\n",
      "31/31 [==============================] - ETA: 0s - loss: 0.1546 - accuracy: 0.9424"
     ]
    },
    {
     "name": "stderr",
     "output_type": "stream",
     "text": [
      "WARNING:absl:Found untraced functions such as _jit_compiled_convolution_op, _jit_compiled_convolution_op, _update_step_xla while saving (showing 3 of 3). These functions will not be directly callable after loading.\n"
     ]
    },
    {
     "name": "stdout",
     "output_type": "stream",
     "text": [
      "INFO:tensorflow:Assets written to: model-006.model\\assets\n"
     ]
    },
    {
     "name": "stderr",
     "output_type": "stream",
     "text": [
      "INFO:tensorflow:Assets written to: model-006.model\\assets\n"
     ]
    },
    {
     "name": "stdout",
     "output_type": "stream",
     "text": [
      "31/31 [==============================] - 48s 2s/step - loss: 0.1546 - accuracy: 0.9424 - val_loss: 0.1703 - val_accuracy: 0.9355\n",
      "Epoch 7/20\n",
      "31/31 [==============================] - ETA: 0s - loss: 0.1255 - accuracy: 0.9586"
     ]
    },
    {
     "name": "stderr",
     "output_type": "stream",
     "text": [
      "WARNING:absl:Found untraced functions such as _jit_compiled_convolution_op, _jit_compiled_convolution_op, _update_step_xla while saving (showing 3 of 3). These functions will not be directly callable after loading.\n"
     ]
    },
    {
     "name": "stdout",
     "output_type": "stream",
     "text": [
      "INFO:tensorflow:Assets written to: model-007.model\\assets\n"
     ]
    },
    {
     "name": "stderr",
     "output_type": "stream",
     "text": [
      "INFO:tensorflow:Assets written to: model-007.model\\assets\n"
     ]
    },
    {
     "name": "stdout",
     "output_type": "stream",
     "text": [
      "31/31 [==============================] - 47s 2s/step - loss: 0.1255 - accuracy: 0.9586 - val_loss: 0.1603 - val_accuracy: 0.9395\n",
      "Epoch 8/20\n",
      "31/31 [==============================] - 45s 1s/step - loss: 0.1091 - accuracy: 0.9606 - val_loss: 0.1859 - val_accuracy: 0.9315\n",
      "Epoch 9/20\n",
      "31/31 [==============================] - ETA: 0s - loss: 0.1047 - accuracy: 0.9576"
     ]
    },
    {
     "name": "stderr",
     "output_type": "stream",
     "text": [
      "WARNING:absl:Found untraced functions such as _jit_compiled_convolution_op, _jit_compiled_convolution_op, _update_step_xla while saving (showing 3 of 3). These functions will not be directly callable after loading.\n"
     ]
    },
    {
     "name": "stdout",
     "output_type": "stream",
     "text": [
      "INFO:tensorflow:Assets written to: model-009.model\\assets\n"
     ]
    },
    {
     "name": "stderr",
     "output_type": "stream",
     "text": [
      "INFO:tensorflow:Assets written to: model-009.model\\assets\n"
     ]
    },
    {
     "name": "stdout",
     "output_type": "stream",
     "text": [
      "31/31 [==============================] - 44s 1s/step - loss: 0.1047 - accuracy: 0.9576 - val_loss: 0.1371 - val_accuracy: 0.9435\n",
      "Epoch 10/20\n",
      "31/31 [==============================] - 46s 1s/step - loss: 0.0828 - accuracy: 0.9758 - val_loss: 0.1610 - val_accuracy: 0.9476\n",
      "Epoch 11/20\n",
      "31/31 [==============================] - 41s 1s/step - loss: 0.0672 - accuracy: 0.9758 - val_loss: 0.1549 - val_accuracy: 0.9516\n",
      "Epoch 12/20\n",
      "31/31 [==============================] - 42s 1s/step - loss: 0.0654 - accuracy: 0.9737 - val_loss: 0.1398 - val_accuracy: 0.9476\n",
      "Epoch 13/20\n",
      "31/31 [==============================] - 44s 1s/step - loss: 0.0720 - accuracy: 0.9758 - val_loss: 0.2580 - val_accuracy: 0.9113\n",
      "Epoch 14/20\n",
      "31/31 [==============================] - 42s 1s/step - loss: 0.0727 - accuracy: 0.9697 - val_loss: 0.1451 - val_accuracy: 0.9516\n",
      "Epoch 15/20\n",
      "31/31 [==============================] - 42s 1s/step - loss: 0.1054 - accuracy: 0.9556 - val_loss: 0.1655 - val_accuracy: 0.9355\n",
      "Epoch 16/20\n",
      "31/31 [==============================] - ETA: 0s - loss: 0.0731 - accuracy: 0.9788"
     ]
    },
    {
     "name": "stderr",
     "output_type": "stream",
     "text": [
      "WARNING:absl:Found untraced functions such as _jit_compiled_convolution_op, _jit_compiled_convolution_op, _update_step_xla while saving (showing 3 of 3). These functions will not be directly callable after loading.\n"
     ]
    },
    {
     "name": "stdout",
     "output_type": "stream",
     "text": [
      "INFO:tensorflow:Assets written to: model-016.model\\assets\n"
     ]
    },
    {
     "name": "stderr",
     "output_type": "stream",
     "text": [
      "INFO:tensorflow:Assets written to: model-016.model\\assets\n"
     ]
    },
    {
     "name": "stdout",
     "output_type": "stream",
     "text": [
      "31/31 [==============================] - 44s 1s/step - loss: 0.0731 - accuracy: 0.9788 - val_loss: 0.1270 - val_accuracy: 0.9597\n",
      "Epoch 17/20\n",
      "31/31 [==============================] - 43s 1s/step - loss: 0.0339 - accuracy: 0.9899 - val_loss: 0.1633 - val_accuracy: 0.9476\n",
      "Epoch 18/20\n",
      "31/31 [==============================] - 44s 1s/step - loss: 0.0398 - accuracy: 0.9899 - val_loss: 0.2101 - val_accuracy: 0.9315\n",
      "Epoch 19/20\n",
      "31/31 [==============================] - 44s 1s/step - loss: 0.0564 - accuracy: 0.9808 - val_loss: 0.1429 - val_accuracy: 0.9556\n",
      "Epoch 20/20\n",
      "31/31 [==============================] - 44s 1s/step - loss: 0.0471 - accuracy: 0.9899 - val_loss: 0.1482 - val_accuracy: 0.9435\n"
     ]
    }
   ],
   "source": [
    "checkpoint=ModelCheckpoint(\"model-{epoch:03d}.model\",monitor=\"val_loss\",verbose=0,save_best_only=True,mode=\"auto\")\n",
    "history=model.fit(train_data,train_target,epochs=20,callbacks=[checkpoint],validation_split=0.2)"
   ]
  },
  {
   "cell_type": "code",
   "execution_count": 15,
   "id": "fb42b6c4",
   "metadata": {},
   "outputs": [
    {
     "data": {
      "image/png": "[encoded data removed]",
      "text/plain": [
       "<Figure size 432x288 with 1 Axes>"
      ]
     },
     "metadata": {
      "needs_background": "light"
     },
     "output_type": "display_data"
    }
   ],
   "source": [
    "from matplotlib import pyplot as plt\n",
    "plt.plot(history.history[\"loss\"],\"r\",label=\"training loss\")\n",
    "plt.plot(history.history[\"val_loss\"],label=\"validation loss\")\n",
    "plt.xlabel(\"# epochs\")\n",
    "plt.ylabel(\"loss\")\n",
    "plt.legend()\n",
    "plt.show()"
   ]
  },
  {
   "cell_type": "code",
   "execution_count": null,
   "id": "a621dcaf",
   "metadata": {},
   "outputs": [],
   "source": []
  }
 ],
 "metadata": {
  "kernelspec": {
   "display_name": "Python 3 (ipykernel)",
   "language": "python",
   "name": "python3"
  },
  "language_info": {
   "codemirror_mode": {
    "name": "ipython",
    "version": 3
   },
   "file_extension": ".py",
   "mimetype": "text/x-python",
   "name": "python",
   "nbconvert_exporter": "python",
   "pygments_lexer": "ipython3",
   "version": "3.9.7"
  }
 },
 "nbformat": 4,
 "nbformat_minor": 5
}
